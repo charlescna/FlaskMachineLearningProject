{
 "cells": [
  {
   "cell_type": "code",
   "execution_count": 1,
   "id": "initial_id",
   "metadata": {
    "collapsed": true,
    "ExecuteTime": {
     "end_time": "2023-12-13T19:42:52.211727600Z",
     "start_time": "2023-12-13T19:42:49.827894700Z"
    }
   },
   "outputs": [],
   "source": [
    "import pandas as pd\n",
    "from sklearn.model_selection import train_test_split\n",
    "from sklearn.impute import SimpleImputer\n",
    "from sklearn.preprocessing import StandardScaler\n",
    "from sklearn.linear_model import LinearRegression\n",
    "from sklearn.metrics import mean_squared_error, r2_score\n",
    "from sklearn.compose import ColumnTransformer\n",
    "from sklearn.pipeline import Pipeline\n",
    "from sklearn.model_selection import train_test_split, cross_val_score, GridSearchCV\n",
    "from sklearn.linear_model import LogisticRegression\n",
    "from sklearn.metrics import accuracy_score, precision_score, recall_score, f1_score, confusion_matrix\n",
    "import seaborn as sns\n",
    "import matplotlib.pyplot as plt"
   ]
  },
  {
   "cell_type": "markdown",
   "source": [
    "# 1. Preparing the Data:"
   ],
   "metadata": {
    "collapsed": false
   },
   "id": "dc3c14164c7161c3"
  },
  {
   "cell_type": "markdown",
   "source": [
    "### a) Load the dataset"
   ],
   "metadata": {
    "collapsed": false
   },
   "id": "3a5a067932a59b42"
  },
  {
   "cell_type": "code",
   "execution_count": 2,
   "outputs": [],
   "source": [
    "file_path = r\"C:\\Users\\Charles\\Documents\\CNA Lectures\\Third Term Sept to Dec 2023\\Emerging Trends & Innovation CP4477 Arun Rameshbabu\\Assignment2Diabetes\\diabetes_dataset.csv\""
   ],
   "metadata": {
    "collapsed": false,
    "ExecuteTime": {
     "end_time": "2023-12-13T19:42:52.279808Z",
     "start_time": "2023-12-13T19:42:51.475697100Z"
    }
   },
   "id": "1df8ce83e7f72a4c"
  },
  {
   "cell_type": "code",
   "execution_count": 3,
   "outputs": [],
   "source": [
    "df = pd.read_csv(file_path)"
   ],
   "metadata": {
    "collapsed": false,
    "ExecuteTime": {
     "end_time": "2023-12-13T19:42:52.282807300Z",
     "start_time": "2023-12-13T19:42:51.494689900Z"
    }
   },
   "id": "3ed2fa9cc160eebd"
  },
  {
   "cell_type": "code",
   "execution_count": 4,
   "outputs": [
    {
     "data": {
      "text/plain": "     Pregnancies  Glucose  BloodPressure  SkinThickness  Insulin   BMI  \\\n0              6      148             72             35        0  33.6   \n1              1       85             66             29        0  26.6   \n2              8      183             64              0        0  23.3   \n3              1       89             66             23       94  28.1   \n4              0      137             40             35      168  43.1   \n..           ...      ...            ...            ...      ...   ...   \n763           10      101             76             48      180  32.9   \n764            2      122             70             27        0  36.8   \n765            5      121             72             23      112  26.2   \n766            1      126             60              0        0  30.1   \n767            1       93             70             31        0  30.4   \n\n     DiabetesPedigreeFunction  Age  Outcome  \n0                       0.627   50        1  \n1                       0.351   31        0  \n2                       0.672   32        1  \n3                       0.167   21        0  \n4                       2.288   33        1  \n..                        ...  ...      ...  \n763                     0.171   63        0  \n764                     0.340   27        0  \n765                     0.245   30        0  \n766                     0.349   47        1  \n767                     0.315   23        0  \n\n[768 rows x 9 columns]",
      "text/html": "<div>\n<style scoped>\n    .dataframe tbody tr th:only-of-type {\n        vertical-align: middle;\n    }\n\n    .dataframe tbody tr th {\n        vertical-align: top;\n    }\n\n    .dataframe thead th {\n        text-align: right;\n    }\n</style>\n<table border=\"1\" class=\"dataframe\">\n  <thead>\n    <tr style=\"text-align: right;\">\n      <th></th>\n      <th>Pregnancies</th>\n      <th>Glucose</th>\n      <th>BloodPressure</th>\n      <th>SkinThickness</th>\n      <th>Insulin</th>\n      <th>BMI</th>\n      <th>DiabetesPedigreeFunction</th>\n      <th>Age</th>\n      <th>Outcome</th>\n    </tr>\n  </thead>\n  <tbody>\n    <tr>\n      <th>0</th>\n      <td>6</td>\n      <td>148</td>\n      <td>72</td>\n      <td>35</td>\n      <td>0</td>\n      <td>33.6</td>\n      <td>0.627</td>\n      <td>50</td>\n      <td>1</td>\n    </tr>\n    <tr>\n      <th>1</th>\n      <td>1</td>\n      <td>85</td>\n      <td>66</td>\n      <td>29</td>\n      <td>0</td>\n      <td>26.6</td>\n      <td>0.351</td>\n      <td>31</td>\n      <td>0</td>\n    </tr>\n    <tr>\n      <th>2</th>\n      <td>8</td>\n      <td>183</td>\n      <td>64</td>\n      <td>0</td>\n      <td>0</td>\n      <td>23.3</td>\n      <td>0.672</td>\n      <td>32</td>\n      <td>1</td>\n    </tr>\n    <tr>\n      <th>3</th>\n      <td>1</td>\n      <td>89</td>\n      <td>66</td>\n      <td>23</td>\n      <td>94</td>\n      <td>28.1</td>\n      <td>0.167</td>\n      <td>21</td>\n      <td>0</td>\n    </tr>\n    <tr>\n      <th>4</th>\n      <td>0</td>\n      <td>137</td>\n      <td>40</td>\n      <td>35</td>\n      <td>168</td>\n      <td>43.1</td>\n      <td>2.288</td>\n      <td>33</td>\n      <td>1</td>\n    </tr>\n    <tr>\n      <th>...</th>\n      <td>...</td>\n      <td>...</td>\n      <td>...</td>\n      <td>...</td>\n      <td>...</td>\n      <td>...</td>\n      <td>...</td>\n      <td>...</td>\n      <td>...</td>\n    </tr>\n    <tr>\n      <th>763</th>\n      <td>10</td>\n      <td>101</td>\n      <td>76</td>\n      <td>48</td>\n      <td>180</td>\n      <td>32.9</td>\n      <td>0.171</td>\n      <td>63</td>\n      <td>0</td>\n    </tr>\n    <tr>\n      <th>764</th>\n      <td>2</td>\n      <td>122</td>\n      <td>70</td>\n      <td>27</td>\n      <td>0</td>\n      <td>36.8</td>\n      <td>0.340</td>\n      <td>27</td>\n      <td>0</td>\n    </tr>\n    <tr>\n      <th>765</th>\n      <td>5</td>\n      <td>121</td>\n      <td>72</td>\n      <td>23</td>\n      <td>112</td>\n      <td>26.2</td>\n      <td>0.245</td>\n      <td>30</td>\n      <td>0</td>\n    </tr>\n    <tr>\n      <th>766</th>\n      <td>1</td>\n      <td>126</td>\n      <td>60</td>\n      <td>0</td>\n      <td>0</td>\n      <td>30.1</td>\n      <td>0.349</td>\n      <td>47</td>\n      <td>1</td>\n    </tr>\n    <tr>\n      <th>767</th>\n      <td>1</td>\n      <td>93</td>\n      <td>70</td>\n      <td>31</td>\n      <td>0</td>\n      <td>30.4</td>\n      <td>0.315</td>\n      <td>23</td>\n      <td>0</td>\n    </tr>\n  </tbody>\n</table>\n<p>768 rows × 9 columns</p>\n</div>"
     },
     "execution_count": 4,
     "metadata": {},
     "output_type": "execute_result"
    }
   ],
   "source": [
    "df"
   ],
   "metadata": {
    "collapsed": false,
    "ExecuteTime": {
     "end_time": "2023-12-13T19:42:52.338760400Z",
     "start_time": "2023-12-13T19:42:51.578041900Z"
    }
   },
   "id": "529ee92a12c80cd8"
  },
  {
   "cell_type": "markdown",
   "source": [
    "#### First five rows and dataset info"
   ],
   "metadata": {
    "collapsed": false
   },
   "id": "88c93fd5780cabab"
  },
  {
   "cell_type": "code",
   "execution_count": 5,
   "outputs": [
    {
     "data": {
      "text/plain": "   Pregnancies  Glucose  BloodPressure  SkinThickness  Insulin   BMI  \\\n0            6      148             72             35        0  33.6   \n1            1       85             66             29        0  26.6   \n2            8      183             64              0        0  23.3   \n3            1       89             66             23       94  28.1   \n4            0      137             40             35      168  43.1   \n\n   DiabetesPedigreeFunction  Age  Outcome  \n0                     0.627   50        1  \n1                     0.351   31        0  \n2                     0.672   32        1  \n3                     0.167   21        0  \n4                     2.288   33        1  ",
      "text/html": "<div>\n<style scoped>\n    .dataframe tbody tr th:only-of-type {\n        vertical-align: middle;\n    }\n\n    .dataframe tbody tr th {\n        vertical-align: top;\n    }\n\n    .dataframe thead th {\n        text-align: right;\n    }\n</style>\n<table border=\"1\" class=\"dataframe\">\n  <thead>\n    <tr style=\"text-align: right;\">\n      <th></th>\n      <th>Pregnancies</th>\n      <th>Glucose</th>\n      <th>BloodPressure</th>\n      <th>SkinThickness</th>\n      <th>Insulin</th>\n      <th>BMI</th>\n      <th>DiabetesPedigreeFunction</th>\n      <th>Age</th>\n      <th>Outcome</th>\n    </tr>\n  </thead>\n  <tbody>\n    <tr>\n      <th>0</th>\n      <td>6</td>\n      <td>148</td>\n      <td>72</td>\n      <td>35</td>\n      <td>0</td>\n      <td>33.6</td>\n      <td>0.627</td>\n      <td>50</td>\n      <td>1</td>\n    </tr>\n    <tr>\n      <th>1</th>\n      <td>1</td>\n      <td>85</td>\n      <td>66</td>\n      <td>29</td>\n      <td>0</td>\n      <td>26.6</td>\n      <td>0.351</td>\n      <td>31</td>\n      <td>0</td>\n    </tr>\n    <tr>\n      <th>2</th>\n      <td>8</td>\n      <td>183</td>\n      <td>64</td>\n      <td>0</td>\n      <td>0</td>\n      <td>23.3</td>\n      <td>0.672</td>\n      <td>32</td>\n      <td>1</td>\n    </tr>\n    <tr>\n      <th>3</th>\n      <td>1</td>\n      <td>89</td>\n      <td>66</td>\n      <td>23</td>\n      <td>94</td>\n      <td>28.1</td>\n      <td>0.167</td>\n      <td>21</td>\n      <td>0</td>\n    </tr>\n    <tr>\n      <th>4</th>\n      <td>0</td>\n      <td>137</td>\n      <td>40</td>\n      <td>35</td>\n      <td>168</td>\n      <td>43.1</td>\n      <td>2.288</td>\n      <td>33</td>\n      <td>1</td>\n    </tr>\n  </tbody>\n</table>\n</div>"
     },
     "execution_count": 5,
     "metadata": {},
     "output_type": "execute_result"
    }
   ],
   "source": [
    "df.head(5)"
   ],
   "metadata": {
    "collapsed": false,
    "ExecuteTime": {
     "end_time": "2023-12-13T19:42:52.341754800Z",
     "start_time": "2023-12-13T19:42:51.671426500Z"
    }
   },
   "id": "45fab9cffc76116a"
  },
  {
   "cell_type": "code",
   "execution_count": 6,
   "outputs": [
    {
     "name": "stdout",
     "output_type": "stream",
     "text": [
      "<class 'pandas.core.frame.DataFrame'>\n",
      "RangeIndex: 768 entries, 0 to 767\n",
      "Data columns (total 9 columns):\n",
      " #   Column                    Non-Null Count  Dtype  \n",
      "---  ------                    --------------  -----  \n",
      " 0   Pregnancies               768 non-null    int64  \n",
      " 1   Glucose                   768 non-null    int64  \n",
      " 2   BloodPressure             768 non-null    int64  \n",
      " 3   SkinThickness             768 non-null    int64  \n",
      " 4   Insulin                   768 non-null    int64  \n",
      " 5   BMI                       768 non-null    float64\n",
      " 6   DiabetesPedigreeFunction  768 non-null    float64\n",
      " 7   Age                       768 non-null    int64  \n",
      " 8   Outcome                   768 non-null    int64  \n",
      "dtypes: float64(2), int64(7)\n",
      "memory usage: 54.1 KB\n"
     ]
    }
   ],
   "source": [
    "df.info()"
   ],
   "metadata": {
    "collapsed": false,
    "ExecuteTime": {
     "end_time": "2023-12-13T19:42:52.347755700Z",
     "start_time": "2023-12-13T19:42:51.698602400Z"
    }
   },
   "id": "35c36b03db4bfba4"
  },
  {
   "cell_type": "markdown",
   "source": [
    "### b. Handle missing values"
   ],
   "metadata": {
    "collapsed": false
   },
   "id": "4d6b20319e3a2aef"
  },
  {
   "cell_type": "code",
   "execution_count": 7,
   "outputs": [
    {
     "data": {
      "text/plain": "Pregnancies                 0\nGlucose                     0\nBloodPressure               0\nSkinThickness               0\nInsulin                     0\nBMI                         0\nDiabetesPedigreeFunction    0\nAge                         0\nOutcome                     0\ndtype: int64"
     },
     "execution_count": 7,
     "metadata": {},
     "output_type": "execute_result"
    }
   ],
   "source": [
    "df.isnull().sum()"
   ],
   "metadata": {
    "collapsed": false,
    "ExecuteTime": {
     "end_time": "2023-12-13T19:42:52.350751900Z",
     "start_time": "2023-12-13T19:42:51.767980Z"
    }
   },
   "id": "9987f380e71eca90"
  },
  {
   "cell_type": "markdown",
   "source": [
    "### There are no missing values"
   ],
   "metadata": {
    "collapsed": false
   },
   "id": "8fcb0ac7fa7de909"
  },
  {
   "cell_type": "markdown",
   "source": [
    "### b) Handle missing values and outliers effectively."
   ],
   "metadata": {
    "collapsed": false
   },
   "id": "8fc4a025a7795b02"
  },
  {
   "cell_type": "markdown",
   "source": [
    "##### Using Interquartile range"
   ],
   "metadata": {
    "collapsed": false
   },
   "id": "c86e81dc7b72ae56"
  },
  {
   "cell_type": "code",
   "execution_count": 8,
   "outputs": [],
   "source": [
    "Q1 = df.quantile(0.25)\n",
    "Q3 = df.quantile(0.75)\n",
    "IQR = Q3 - Q1"
   ],
   "metadata": {
    "collapsed": false,
    "ExecuteTime": {
     "end_time": "2023-12-13T19:42:52.352752500Z",
     "start_time": "2023-12-13T19:42:51.791071900Z"
    }
   },
   "id": "78e4e60b4ffb10bb"
  },
  {
   "cell_type": "markdown",
   "source": [
    "##### Removing outliers based on the Interquartile range above"
   ],
   "metadata": {
    "collapsed": false
   },
   "id": "25973ef35bd025e"
  },
  {
   "cell_type": "code",
   "execution_count": 9,
   "outputs": [],
   "source": [
    "df_remove_outliers = df[~((df < (Q1 - 1.5 * IQR)) | (df > (Q3 + 1.5 * IQR))).any(axis=1)]\n"
   ],
   "metadata": {
    "collapsed": false,
    "ExecuteTime": {
     "end_time": "2023-12-13T19:42:52.576182800Z",
     "start_time": "2023-12-13T19:42:51.854248800Z"
    }
   },
   "id": "a896ff74d58d8525"
  },
  {
   "cell_type": "markdown",
   "source": [
    "##### Show statistics after handing outliers effectively."
   ],
   "metadata": {
    "collapsed": false
   },
   "id": "b0bd81e6862af5a9"
  },
  {
   "cell_type": "code",
   "execution_count": 10,
   "outputs": [
    {
     "data": {
      "text/plain": "       Pregnancies     Glucose  BloodPressure  SkinThickness     Insulin  \\\ncount   639.000000  639.000000     639.000000     639.000000  639.000000   \nmean      3.804382  119.112676      72.120501      20.563380   65.931142   \nstd       3.260995   29.162175      11.348686      15.339991   79.569482   \nmin       0.000000   44.000000      38.000000       0.000000    0.000000   \n25%       1.000000   99.000000      64.000000       0.000000    0.000000   \n50%       3.000000  114.000000      72.000000      23.000000   37.000000   \n75%       6.000000  137.000000      80.000000      32.000000  120.000000   \nmax      13.000000  198.000000     106.000000      60.000000  318.000000   \n\n             BMI  DiabetesPedigreeFunction         Age     Outcome  \ncount  639.00000                639.000000  639.000000  639.000000  \nmean    32.00579                  0.429177   32.715180    0.312989  \nstd      6.43397                  0.250957   11.080651    0.464073  \nmin     18.20000                  0.078000   21.000000    0.000000  \n25%     27.30000                  0.242000   24.000000    0.000000  \n50%     32.00000                  0.358000   29.000000    0.000000  \n75%     35.95000                  0.586000   40.000000    1.000000  \nmax     50.00000                  1.191000   66.000000    1.000000  ",
      "text/html": "<div>\n<style scoped>\n    .dataframe tbody tr th:only-of-type {\n        vertical-align: middle;\n    }\n\n    .dataframe tbody tr th {\n        vertical-align: top;\n    }\n\n    .dataframe thead th {\n        text-align: right;\n    }\n</style>\n<table border=\"1\" class=\"dataframe\">\n  <thead>\n    <tr style=\"text-align: right;\">\n      <th></th>\n      <th>Pregnancies</th>\n      <th>Glucose</th>\n      <th>BloodPressure</th>\n      <th>SkinThickness</th>\n      <th>Insulin</th>\n      <th>BMI</th>\n      <th>DiabetesPedigreeFunction</th>\n      <th>Age</th>\n      <th>Outcome</th>\n    </tr>\n  </thead>\n  <tbody>\n    <tr>\n      <th>count</th>\n      <td>639.000000</td>\n      <td>639.000000</td>\n      <td>639.000000</td>\n      <td>639.000000</td>\n      <td>639.000000</td>\n      <td>639.00000</td>\n      <td>639.000000</td>\n      <td>639.000000</td>\n      <td>639.000000</td>\n    </tr>\n    <tr>\n      <th>mean</th>\n      <td>3.804382</td>\n      <td>119.112676</td>\n      <td>72.120501</td>\n      <td>20.563380</td>\n      <td>65.931142</td>\n      <td>32.00579</td>\n      <td>0.429177</td>\n      <td>32.715180</td>\n      <td>0.312989</td>\n    </tr>\n    <tr>\n      <th>std</th>\n      <td>3.260995</td>\n      <td>29.162175</td>\n      <td>11.348686</td>\n      <td>15.339991</td>\n      <td>79.569482</td>\n      <td>6.43397</td>\n      <td>0.250957</td>\n      <td>11.080651</td>\n      <td>0.464073</td>\n    </tr>\n    <tr>\n      <th>min</th>\n      <td>0.000000</td>\n      <td>44.000000</td>\n      <td>38.000000</td>\n      <td>0.000000</td>\n      <td>0.000000</td>\n      <td>18.20000</td>\n      <td>0.078000</td>\n      <td>21.000000</td>\n      <td>0.000000</td>\n    </tr>\n    <tr>\n      <th>25%</th>\n      <td>1.000000</td>\n      <td>99.000000</td>\n      <td>64.000000</td>\n      <td>0.000000</td>\n      <td>0.000000</td>\n      <td>27.30000</td>\n      <td>0.242000</td>\n      <td>24.000000</td>\n      <td>0.000000</td>\n    </tr>\n    <tr>\n      <th>50%</th>\n      <td>3.000000</td>\n      <td>114.000000</td>\n      <td>72.000000</td>\n      <td>23.000000</td>\n      <td>37.000000</td>\n      <td>32.00000</td>\n      <td>0.358000</td>\n      <td>29.000000</td>\n      <td>0.000000</td>\n    </tr>\n    <tr>\n      <th>75%</th>\n      <td>6.000000</td>\n      <td>137.000000</td>\n      <td>80.000000</td>\n      <td>32.000000</td>\n      <td>120.000000</td>\n      <td>35.95000</td>\n      <td>0.586000</td>\n      <td>40.000000</td>\n      <td>1.000000</td>\n    </tr>\n    <tr>\n      <th>max</th>\n      <td>13.000000</td>\n      <td>198.000000</td>\n      <td>106.000000</td>\n      <td>60.000000</td>\n      <td>318.000000</td>\n      <td>50.00000</td>\n      <td>1.191000</td>\n      <td>66.000000</td>\n      <td>1.000000</td>\n    </tr>\n  </tbody>\n</table>\n</div>"
     },
     "execution_count": 10,
     "metadata": {},
     "output_type": "execute_result"
    }
   ],
   "source": [
    "df_remove_outliers.describe()"
   ],
   "metadata": {
    "collapsed": false,
    "ExecuteTime": {
     "end_time": "2023-12-13T19:42:52.641609900Z",
     "start_time": "2023-12-13T19:42:51.881249600Z"
    }
   },
   "id": "4b8650aaf90629ab"
  },
  {
   "cell_type": "markdown",
   "source": [
    "### C) Perform any necessary data transformations, standardization, or encoding."
   ],
   "metadata": {
    "collapsed": false
   },
   "id": "31b70c609c2ba115"
  },
  {
   "cell_type": "markdown",
   "source": [
    "##### Now working with the dataframe of no ouutliers ie \"df_remove_outliers\""
   ],
   "metadata": {
    "collapsed": false
   },
   "id": "df9d478b627488a4"
  },
  {
   "cell_type": "markdown",
   "source": [
    "##### filter numeric data"
   ],
   "metadata": {
    "collapsed": false
   },
   "id": "ce9319c7bfca9c4c"
  },
  {
   "cell_type": "code",
   "execution_count": 11,
   "outputs": [],
   "source": [
    "numeric_data_filter = df_remove_outliers.select_dtypes(include=['float64', 'int64']).columns\n"
   ],
   "metadata": {
    "collapsed": false,
    "ExecuteTime": {
     "end_time": "2023-12-13T19:42:52.643610Z",
     "start_time": "2023-12-13T19:42:51.961100Z"
    }
   },
   "id": "c17c2a58dd8a473"
  },
  {
   "cell_type": "markdown",
   "source": [
    "#### Now let us  standardize numerical data features"
   ],
   "metadata": {
    "collapsed": false
   },
   "id": "485fa1dbbbf26318"
  },
  {
   "cell_type": "code",
   "execution_count": 12,
   "outputs": [],
   "source": [
    "standard_scaler = StandardScaler()\n",
    "df_standardized = pd.DataFrame(standard_scaler.fit_transform(df_remove_outliers[numeric_data_filter]), columns=numeric_data_filter)\n"
   ],
   "metadata": {
    "collapsed": false,
    "ExecuteTime": {
     "end_time": "2023-12-13T19:42:52.644610200Z",
     "start_time": "2023-12-13T19:42:51.973096600Z"
    }
   },
   "id": "fd0d65d90c3c4e5f"
  },
  {
   "cell_type": "markdown",
   "source": [
    "#### Let's view the statistics distribution of the standardization"
   ],
   "metadata": {
    "collapsed": false
   },
   "id": "2b977b5f1438b9e1"
  },
  {
   "cell_type": "code",
   "execution_count": 13,
   "outputs": [
    {
     "data": {
      "text/plain": "        Pregnancies       Glucose  BloodPressure  SkinThickness       Insulin  \\\ncount  6.390000e+02  6.390000e+02   6.390000e+02   6.390000e+02  6.390000e+02   \nmean  -1.132810e-16 -1.030301e-16  -4.021735e-16   1.250956e-17  1.389951e-17   \nstd    1.000783e+00  1.000783e+00   1.000783e+00   1.000783e+00  1.000783e+00   \nmin   -1.167546e+00 -2.577706e+00  -3.008915e+00  -1.341558e+00 -8.292475e-01   \n25%   -8.606511e-01 -6.902240e-01  -7.161060e-01  -1.341558e+00 -8.292475e-01   \n50%   -2.468609e-01 -1.754561e-01  -1.062636e-02   1.589654e-01 -3.638808e-01   \n75%    6.738245e-01  6.138547e-01   6.948533e-01   7.461268e-01  6.800499e-01   \nmax    2.822090e+00  2.707244e+00   2.987662e+00   2.572851e+00  3.170390e+00   \n\n                BMI  DiabetesPedigreeFunction           Age       Outcome  \ncount  6.390000e+02              6.390000e+02  6.390000e+02  6.390000e+02  \nmean  -1.598443e-16             -1.825179e-16  1.791299e-16 -1.553270e-16  \nstd    1.000783e+00              1.000783e+00  1.000783e+00  1.000783e+00  \nmin   -2.147446e+00             -1.400446e+00 -1.058093e+00 -6.749673e-01  \n25%   -7.319706e-01             -7.464363e-01 -7.871386e-01 -6.749673e-01  \n50%   -9.006622e-04             -2.838437e-01 -3.355480e-01 -6.749673e-01  \n75%    6.135092e-01              6.253899e-01  6.579512e-01  1.481553e+00  \nmax    2.798942e+00              3.038049e+00  3.006222e+00  1.481553e+00  ",
      "text/html": "<div>\n<style scoped>\n    .dataframe tbody tr th:only-of-type {\n        vertical-align: middle;\n    }\n\n    .dataframe tbody tr th {\n        vertical-align: top;\n    }\n\n    .dataframe thead th {\n        text-align: right;\n    }\n</style>\n<table border=\"1\" class=\"dataframe\">\n  <thead>\n    <tr style=\"text-align: right;\">\n      <th></th>\n      <th>Pregnancies</th>\n      <th>Glucose</th>\n      <th>BloodPressure</th>\n      <th>SkinThickness</th>\n      <th>Insulin</th>\n      <th>BMI</th>\n      <th>DiabetesPedigreeFunction</th>\n      <th>Age</th>\n      <th>Outcome</th>\n    </tr>\n  </thead>\n  <tbody>\n    <tr>\n      <th>count</th>\n      <td>6.390000e+02</td>\n      <td>6.390000e+02</td>\n      <td>6.390000e+02</td>\n      <td>6.390000e+02</td>\n      <td>6.390000e+02</td>\n      <td>6.390000e+02</td>\n      <td>6.390000e+02</td>\n      <td>6.390000e+02</td>\n      <td>6.390000e+02</td>\n    </tr>\n    <tr>\n      <th>mean</th>\n      <td>-1.132810e-16</td>\n      <td>-1.030301e-16</td>\n      <td>-4.021735e-16</td>\n      <td>1.250956e-17</td>\n      <td>1.389951e-17</td>\n      <td>-1.598443e-16</td>\n      <td>-1.825179e-16</td>\n      <td>1.791299e-16</td>\n      <td>-1.553270e-16</td>\n    </tr>\n    <tr>\n      <th>std</th>\n      <td>1.000783e+00</td>\n      <td>1.000783e+00</td>\n      <td>1.000783e+00</td>\n      <td>1.000783e+00</td>\n      <td>1.000783e+00</td>\n      <td>1.000783e+00</td>\n      <td>1.000783e+00</td>\n      <td>1.000783e+00</td>\n      <td>1.000783e+00</td>\n    </tr>\n    <tr>\n      <th>min</th>\n      <td>-1.167546e+00</td>\n      <td>-2.577706e+00</td>\n      <td>-3.008915e+00</td>\n      <td>-1.341558e+00</td>\n      <td>-8.292475e-01</td>\n      <td>-2.147446e+00</td>\n      <td>-1.400446e+00</td>\n      <td>-1.058093e+00</td>\n      <td>-6.749673e-01</td>\n    </tr>\n    <tr>\n      <th>25%</th>\n      <td>-8.606511e-01</td>\n      <td>-6.902240e-01</td>\n      <td>-7.161060e-01</td>\n      <td>-1.341558e+00</td>\n      <td>-8.292475e-01</td>\n      <td>-7.319706e-01</td>\n      <td>-7.464363e-01</td>\n      <td>-7.871386e-01</td>\n      <td>-6.749673e-01</td>\n    </tr>\n    <tr>\n      <th>50%</th>\n      <td>-2.468609e-01</td>\n      <td>-1.754561e-01</td>\n      <td>-1.062636e-02</td>\n      <td>1.589654e-01</td>\n      <td>-3.638808e-01</td>\n      <td>-9.006622e-04</td>\n      <td>-2.838437e-01</td>\n      <td>-3.355480e-01</td>\n      <td>-6.749673e-01</td>\n    </tr>\n    <tr>\n      <th>75%</th>\n      <td>6.738245e-01</td>\n      <td>6.138547e-01</td>\n      <td>6.948533e-01</td>\n      <td>7.461268e-01</td>\n      <td>6.800499e-01</td>\n      <td>6.135092e-01</td>\n      <td>6.253899e-01</td>\n      <td>6.579512e-01</td>\n      <td>1.481553e+00</td>\n    </tr>\n    <tr>\n      <th>max</th>\n      <td>2.822090e+00</td>\n      <td>2.707244e+00</td>\n      <td>2.987662e+00</td>\n      <td>2.572851e+00</td>\n      <td>3.170390e+00</td>\n      <td>2.798942e+00</td>\n      <td>3.038049e+00</td>\n      <td>3.006222e+00</td>\n      <td>1.481553e+00</td>\n    </tr>\n  </tbody>\n</table>\n</div>"
     },
     "execution_count": 13,
     "metadata": {},
     "output_type": "execute_result"
    }
   ],
   "source": [
    "df_standardized.describe()"
   ],
   "metadata": {
    "collapsed": false,
    "ExecuteTime": {
     "end_time": "2023-12-13T19:42:52.777161400Z",
     "start_time": "2023-12-13T19:42:52.010673100Z"
    }
   },
   "id": "75bc7d626723605"
  },
  {
   "cell_type": "markdown",
   "source": [
    "# 2. Exploratory Data Analysis"
   ],
   "metadata": {
    "collapsed": false
   },
   "id": "2377e8e3e15dcc6f"
  },
  {
   "cell_type": "markdown",
   "source": [
    "#### 2a)"
   ],
   "metadata": {
    "collapsed": false
   },
   "id": "141d45ee5899d969"
  },
  {
   "cell_type": "code",
   "execution_count": 14,
   "outputs": [
    {
     "name": "stdout",
     "output_type": "stream",
     "text": [
      "<class 'pandas.core.frame.DataFrame'>\n",
      "RangeIndex: 768 entries, 0 to 767\n",
      "Data columns (total 9 columns):\n",
      " #   Column                    Non-Null Count  Dtype  \n",
      "---  ------                    --------------  -----  \n",
      " 0   Pregnancies               768 non-null    int64  \n",
      " 1   Glucose                   768 non-null    int64  \n",
      " 2   BloodPressure             768 non-null    int64  \n",
      " 3   SkinThickness             768 non-null    int64  \n",
      " 4   Insulin                   768 non-null    int64  \n",
      " 5   BMI                       768 non-null    float64\n",
      " 6   DiabetesPedigreeFunction  768 non-null    float64\n",
      " 7   Age                       768 non-null    int64  \n",
      " 8   Outcome                   768 non-null    int64  \n",
      "dtypes: float64(2), int64(7)\n",
      "memory usage: 54.1 KB\n"
     ]
    }
   ],
   "source": [
    "df.info()"
   ],
   "metadata": {
    "collapsed": false,
    "ExecuteTime": {
     "end_time": "2023-12-13T19:42:52.779161400Z",
     "start_time": "2023-12-13T19:42:52.150721100Z"
    }
   },
   "id": "838032ba6929183e"
  },
  {
   "cell_type": "code",
   "execution_count": 14,
   "outputs": [],
   "source": [],
   "metadata": {
    "collapsed": false,
    "ExecuteTime": {
     "end_time": "2023-12-13T19:42:52.892258200Z",
     "start_time": "2023-12-13T19:42:52.161719800Z"
    }
   },
   "id": "7b9f1beca9f95a80"
  },
  {
   "cell_type": "code",
   "execution_count": 15,
   "outputs": [
    {
     "data": {
      "text/plain": "       Pregnancies     Glucose  BloodPressure  SkinThickness     Insulin  \\\ncount   768.000000  768.000000     768.000000     768.000000  768.000000   \nmean      3.845052  120.894531      69.105469      20.536458   79.799479   \nstd       3.369578   31.972618      19.355807      15.952218  115.244002   \nmin       0.000000    0.000000       0.000000       0.000000    0.000000   \n25%       1.000000   99.000000      62.000000       0.000000    0.000000   \n50%       3.000000  117.000000      72.000000      23.000000   30.500000   \n75%       6.000000  140.250000      80.000000      32.000000  127.250000   \nmax      17.000000  199.000000     122.000000      99.000000  846.000000   \n\n              BMI  DiabetesPedigreeFunction         Age     Outcome  \ncount  768.000000                768.000000  768.000000  768.000000  \nmean    31.992578                  0.471876   33.240885    0.348958  \nstd      7.884160                  0.331329   11.760232    0.476951  \nmin      0.000000                  0.078000   21.000000    0.000000  \n25%     27.300000                  0.243750   24.000000    0.000000  \n50%     32.000000                  0.372500   29.000000    0.000000  \n75%     36.600000                  0.626250   41.000000    1.000000  \nmax     67.100000                  2.420000   81.000000    1.000000  ",
      "text/html": "<div>\n<style scoped>\n    .dataframe tbody tr th:only-of-type {\n        vertical-align: middle;\n    }\n\n    .dataframe tbody tr th {\n        vertical-align: top;\n    }\n\n    .dataframe thead th {\n        text-align: right;\n    }\n</style>\n<table border=\"1\" class=\"dataframe\">\n  <thead>\n    <tr style=\"text-align: right;\">\n      <th></th>\n      <th>Pregnancies</th>\n      <th>Glucose</th>\n      <th>BloodPressure</th>\n      <th>SkinThickness</th>\n      <th>Insulin</th>\n      <th>BMI</th>\n      <th>DiabetesPedigreeFunction</th>\n      <th>Age</th>\n      <th>Outcome</th>\n    </tr>\n  </thead>\n  <tbody>\n    <tr>\n      <th>count</th>\n      <td>768.000000</td>\n      <td>768.000000</td>\n      <td>768.000000</td>\n      <td>768.000000</td>\n      <td>768.000000</td>\n      <td>768.000000</td>\n      <td>768.000000</td>\n      <td>768.000000</td>\n      <td>768.000000</td>\n    </tr>\n    <tr>\n      <th>mean</th>\n      <td>3.845052</td>\n      <td>120.894531</td>\n      <td>69.105469</td>\n      <td>20.536458</td>\n      <td>79.799479</td>\n      <td>31.992578</td>\n      <td>0.471876</td>\n      <td>33.240885</td>\n      <td>0.348958</td>\n    </tr>\n    <tr>\n      <th>std</th>\n      <td>3.369578</td>\n      <td>31.972618</td>\n      <td>19.355807</td>\n      <td>15.952218</td>\n      <td>115.244002</td>\n      <td>7.884160</td>\n      <td>0.331329</td>\n      <td>11.760232</td>\n      <td>0.476951</td>\n    </tr>\n    <tr>\n      <th>min</th>\n      <td>0.000000</td>\n      <td>0.000000</td>\n      <td>0.000000</td>\n      <td>0.000000</td>\n      <td>0.000000</td>\n      <td>0.000000</td>\n      <td>0.078000</td>\n      <td>21.000000</td>\n      <td>0.000000</td>\n    </tr>\n    <tr>\n      <th>25%</th>\n      <td>1.000000</td>\n      <td>99.000000</td>\n      <td>62.000000</td>\n      <td>0.000000</td>\n      <td>0.000000</td>\n      <td>27.300000</td>\n      <td>0.243750</td>\n      <td>24.000000</td>\n      <td>0.000000</td>\n    </tr>\n    <tr>\n      <th>50%</th>\n      <td>3.000000</td>\n      <td>117.000000</td>\n      <td>72.000000</td>\n      <td>23.000000</td>\n      <td>30.500000</td>\n      <td>32.000000</td>\n      <td>0.372500</td>\n      <td>29.000000</td>\n      <td>0.000000</td>\n    </tr>\n    <tr>\n      <th>75%</th>\n      <td>6.000000</td>\n      <td>140.250000</td>\n      <td>80.000000</td>\n      <td>32.000000</td>\n      <td>127.250000</td>\n      <td>36.600000</td>\n      <td>0.626250</td>\n      <td>41.000000</td>\n      <td>1.000000</td>\n    </tr>\n    <tr>\n      <th>max</th>\n      <td>17.000000</td>\n      <td>199.000000</td>\n      <td>122.000000</td>\n      <td>99.000000</td>\n      <td>846.000000</td>\n      <td>67.100000</td>\n      <td>2.420000</td>\n      <td>81.000000</td>\n      <td>1.000000</td>\n    </tr>\n  </tbody>\n</table>\n</div>"
     },
     "execution_count": 15,
     "metadata": {},
     "output_type": "execute_result"
    }
   ],
   "source": [
    "df.describe()"
   ],
   "metadata": {
    "collapsed": false,
    "ExecuteTime": {
     "end_time": "2023-12-13T19:42:52.927776200Z",
     "start_time": "2023-12-13T19:42:52.191722Z"
    }
   },
   "id": "6c0a39a51e3c15f7"
  },
  {
   "cell_type": "code",
   "execution_count": 16,
   "outputs": [
    {
     "data": {
      "text/plain": "Pregnancies                 0\nGlucose                     0\nBloodPressure               0\nSkinThickness               0\nInsulin                     0\nBMI                         0\nDiabetesPedigreeFunction    0\nAge                         0\nOutcome                     0\ndtype: int64"
     },
     "execution_count": 16,
     "metadata": {},
     "output_type": "execute_result"
    }
   ],
   "source": [
    "df.isnull().sum()"
   ],
   "metadata": {
    "collapsed": false,
    "ExecuteTime": {
     "end_time": "2023-12-13T19:42:52.929778100Z",
     "start_time": "2023-12-13T19:42:52.255807900Z"
    }
   },
   "id": "18c719ef621bc788"
  },
  {
   "cell_type": "markdown",
   "source": [
    "#### 2b) "
   ],
   "metadata": {
    "collapsed": false
   },
   "id": "825329490de544cd"
  },
  {
   "cell_type": "markdown",
   "source": [
    "#### Descriptive statistics of data"
   ],
   "metadata": {
    "collapsed": false
   },
   "id": "ec5268ea3e59da75"
  },
  {
   "cell_type": "code",
   "execution_count": 17,
   "outputs": [
    {
     "data": {
      "text/plain": "0    500\n1    268\nName: Outcome, dtype: int64"
     },
     "execution_count": 17,
     "metadata": {},
     "output_type": "execute_result"
    }
   ],
   "source": [
    "df['Outcome'].value_counts()"
   ],
   "metadata": {
    "collapsed": false,
    "ExecuteTime": {
     "end_time": "2023-12-13T19:42:53.039289200Z",
     "start_time": "2023-12-13T19:42:52.271808300Z"
    }
   },
   "id": "dc3117617264f19e"
  },
  {
   "cell_type": "markdown",
   "source": [
    "#### Using Pairpolot to visualize the relationships between numerical data"
   ],
   "metadata": {
    "collapsed": false
   },
   "id": "2c1e3d8959932c5e"
  },
  {
   "cell_type": "code",
   "execution_count": null,
   "outputs": [],
   "source": [
    "sns.set(style=\"whitegrid\")\n",
    "sns.pairplot(df, hue='Outcome', corner=True, diag_kind='kde', markers=[\"o\", \"s\"], palette=\"husl\")\n",
    "plt.show()"
   ],
   "metadata": {
    "collapsed": false,
    "is_executing": true,
    "ExecuteTime": {
     "start_time": "2023-12-13T19:42:52.287810400Z"
    }
   },
   "id": "8ca5253442144d2e"
  },
  {
   "cell_type": "markdown",
   "source": [
    "#### Using Correlation heatmap"
   ],
   "metadata": {
    "collapsed": false
   },
   "id": "8a9d54fdea428842"
  },
  {
   "cell_type": "code",
   "execution_count": null,
   "outputs": [],
   "source": [
    "correlation_matrix = df.corr()\n",
    "plt.figure(figsize=(10, 8))\n",
    "custom_palette = sns.color_palette(\"viridis\")\n",
    "sns.heatmap(correlation_matrix, annot=True, cmap=custom_palette, linewidths=0.5)\n",
    "plt.title('Correlation Heatmap for data')\n",
    "plt.show()"
   ],
   "metadata": {
    "collapsed": false,
    "is_executing": true
   },
   "id": "26b957832b193f87"
  },
  {
   "cell_type": "markdown",
   "source": [
    "#### 2c) Identify important features that could impact diabetes prediction."
   ],
   "metadata": {
    "collapsed": false
   },
   "id": "b6ecb3e8bd8a3378"
  },
  {
   "cell_type": "markdown",
   "source": [
    "##### Using  Boxplots to visualize features"
   ],
   "metadata": {
    "collapsed": false
   },
   "id": "eefdce103fa0a35"
  },
  {
   "cell_type": "code",
   "execution_count": null,
   "outputs": [],
   "source": [
    "plt.figure(figsize=(18, 12))\n",
    "for i, column in enumerate(df.columns[:-1], 1):\n",
    "    plt.subplot(3, 3, i)\n",
    "    sns.boxplot(x='Outcome', y=column, data=df)\n",
    "    plt.title(f'{column} vs. Outcome')\n",
    "plt.tight_layout()    \n",
    "plt.show()"
   ],
   "metadata": {
    "collapsed": false,
    "is_executing": true
   },
   "id": "d55795964f77e948"
  },
  {
   "cell_type": "markdown",
   "source": [
    "#### 2c) Based on that data from the boxplot, the important features that could impact diabetes are: Glucose levels, BMI, Age, Pregnancies, Insulin Levels"
   ],
   "metadata": {
    "collapsed": false
   },
   "id": "8dac73616a5e47d4"
  },
  {
   "cell_type": "markdown",
   "source": [
    "# 3. Linear Regression Model"
   ],
   "metadata": {
    "collapsed": false
   },
   "id": "8528be019eab9543"
  },
  {
   "cell_type": "markdown",
   "source": [
    "\n",
    "####  Define features (X) and target variable (y)"
   ],
   "metadata": {
    "collapsed": false
   },
   "id": "2186bd187f13b180"
  },
  {
   "cell_type": "code",
   "execution_count": null,
   "outputs": [],
   "source": [
    "X = df.drop(\"Glucose\", axis=1) \n",
    "y = df[\"Glucose\"]  "
   ],
   "metadata": {
    "collapsed": false,
    "is_executing": true
   },
   "id": "25a7fd5abee9d73"
  },
  {
   "cell_type": "markdown",
   "source": [
    "#### 3a) Split the dataset into training and testing sets."
   ],
   "metadata": {
    "collapsed": false
   },
   "id": "7c889de7835488b"
  },
  {
   "cell_type": "code",
   "execution_count": null,
   "outputs": [],
   "source": [
    "X_train, X_test, y_train, y_test = train_test_split(X, y, test_size=0.2, random_state=42)\n"
   ],
   "metadata": {
    "collapsed": false,
    "is_executing": true
   },
   "id": "d228d87c1faa10a0"
  },
  {
   "cell_type": "markdown",
   "source": [
    "#### Now Build a linear regression model"
   ],
   "metadata": {
    "collapsed": false
   },
   "id": "ea4db04543773eef"
  },
  {
   "cell_type": "code",
   "execution_count": null,
   "outputs": [],
   "source": [
    "model = LinearRegression()\n",
    "model.fit(X_train, y_train)"
   ],
   "metadata": {
    "collapsed": false,
    "is_executing": true
   },
   "id": "29e51a3b4d02b60d"
  },
  {
   "cell_type": "markdown",
   "source": [
    "#### Now make prediction based on the prepared test set"
   ],
   "metadata": {
    "collapsed": false
   },
   "id": "ef2ae98b1cab6236"
  },
  {
   "cell_type": "code",
   "execution_count": null,
   "outputs": [],
   "source": [
    "y_pred = model.predict(X_test)"
   ],
   "metadata": {
    "collapsed": false,
    "is_executing": true
   },
   "id": "150dcbc2cb30bb07"
  },
  {
   "cell_type": "markdown",
   "source": [
    "#### Check model's performance using mse and r2 score"
   ],
   "metadata": {
    "collapsed": false
   },
   "id": "32376029533eb02e"
  },
  {
   "cell_type": "code",
   "execution_count": null,
   "outputs": [],
   "source": [
    "mse = mean_squared_error(y_test, y_pred)\n",
    "r2 = r2_score(y_test, y_pred)"
   ],
   "metadata": {
    "collapsed": false,
    "is_executing": true
   },
   "id": "5be24fd9a133238"
  },
  {
   "cell_type": "code",
   "execution_count": null,
   "outputs": [],
   "source": [
    "print(f\"Mean Squared Error: {mse}\")\n",
    "print(f\"R-squared: {r2}\")"
   ],
   "metadata": {
    "collapsed": false,
    "is_executing": true
   },
   "id": "ae0f5c820276d2a7"
  },
  {
   "cell_type": "markdown",
   "source": [
    "#### Analysis of result of r2 and mse"
   ],
   "metadata": {
    "collapsed": false
   },
   "id": "35f6c1fea4c493f4"
  },
  {
   "cell_type": "markdown",
   "source": [
    "##### The MSE of 704.68 reflects the average squared difference between predicted and actual glucose values. A lower MSE is better, so minimizing it is the goal. \n",
    "##### The R² value of 0.30 implies that around 30% of the glucose variance is explained by the model's features. R² ranges from 0 to 1, with 1 indicating a perfect fit. A higher R² is better, but interpretation depends on the specific problem and expectations."
   ],
   "metadata": {
    "collapsed": false
   },
   "id": "8c95ddefb116224a"
  },
  {
   "cell_type": "markdown",
   "source": [
    "# 4. Logistic Regression Model"
   ],
   "metadata": {
    "collapsed": false
   },
   "id": "4b67189959053c9c"
  },
  {
   "cell_type": "markdown",
   "source": [
    "#### 4a) Use outcome as the target variable."
   ],
   "metadata": {
    "collapsed": false
   },
   "id": "28be02eb78046fd"
  },
  {
   "cell_type": "code",
   "execution_count": null,
   "outputs": [],
   "source": [
    "X = df.drop('Outcome', axis=1)\n",
    "y = df['Outcome']"
   ],
   "metadata": {
    "collapsed": false,
    "is_executing": true
   },
   "id": "869adf4f9cdc4b50"
  },
  {
   "cell_type": "markdown",
   "source": [
    "#### 4b) Split the dataset into training and testing sets."
   ],
   "metadata": {
    "collapsed": false
   },
   "id": "5b295eb3804a5406"
  },
  {
   "cell_type": "code",
   "execution_count": null,
   "outputs": [],
   "source": [
    "X_train, X_test, y_train, y_test = train_test_split(X, y, test_size=0.2, random_state=48)\n"
   ],
   "metadata": {
    "collapsed": false,
    "is_executing": true
   },
   "id": "a020effac0874464"
  },
  {
   "cell_type": "markdown",
   "source": [
    "#### 4c) Build a logistic regression model to classify patients into diabetic or non-diabetic based on suitable features."
   ],
   "metadata": {
    "collapsed": false
   },
   "id": "eae0e973de254c41"
  },
  {
   "cell_type": "code",
   "execution_count": null,
   "outputs": [],
   "source": [
    "logreg_model = LogisticRegression(random_state=48, max_iter=1000)  # Increase max_iter\n",
    "logreg_model.fit(X_train, y_train)\n"
   ],
   "metadata": {
    "collapsed": false,
    "is_executing": true
   },
   "id": "933af5ba3ba61388"
  },
  {
   "cell_type": "markdown",
   "source": [
    "#### 4d) Evaluate the model's performance using appropriate metrics (e.g., accuracy, precision, recall, F1-score)."
   ],
   "metadata": {
    "collapsed": false
   },
   "id": "97bf1b4444aed417"
  },
  {
   "cell_type": "code",
   "execution_count": null,
   "outputs": [],
   "source": [
    "y_pred = logreg_model.predict(X_test)\n",
    "accuracy = accuracy_score(y_test, y_pred)\n",
    "precision = precision_score(y_test, y_pred)\n",
    "recall = recall_score(y_test, y_pred)\n",
    "f1 = f1_score(y_test, y_pred)\n",
    "confusion_matrix = confusion_matrix(y_test, y_pred)"
   ],
   "metadata": {
    "collapsed": false,
    "is_executing": true
   },
   "id": "5ddb8bfc5608ff58"
  },
  {
   "cell_type": "markdown",
   "source": [
    "#### Display results of model performance using metrics above"
   ],
   "metadata": {
    "collapsed": false
   },
   "id": "e45c701e9a4db4f0"
  },
  {
   "cell_type": "code",
   "execution_count": null,
   "outputs": [],
   "source": [
    "print(f'Accuracy: {accuracy:.5f}')\n",
    "print(f'Precision: {precision:.5f}')\n",
    "print(f'Recall: {recall:.5f}')\n",
    "print(f'F1-Score: {f1:.5f}')\n",
    "print(f'Confusion Matrix:\\n{confusion_matrix}')"
   ],
   "metadata": {
    "collapsed": false,
    "is_executing": true
   },
   "id": "c2dc23bab2cb46a7"
  },
  {
   "cell_type": "markdown",
   "source": [
    "#### 4e). Utilize and demonstrate cross-validation and grid search techniques to optimize the model's hyperparameters."
   ],
   "metadata": {
    "collapsed": false
   },
   "id": "b16b7d816c7905c9"
  },
  {
   "cell_type": "code",
   "execution_count": null,
   "outputs": [],
   "source": [
    "param_grid = {'C': [0.001, 0.01, 0.1, 1, 10, 100, 1000]}\n",
    "grid_search = GridSearchCV(LogisticRegression(random_state=48, solver='lbfgs', penalty='l2', max_iter=1000), param_grid, cv=5)\n",
    "grid_search.fit(X_train, y_train)"
   ],
   "metadata": {
    "collapsed": false,
    "is_executing": true
   },
   "id": "6cdea68a2045dae3"
  },
  {
   "cell_type": "code",
   "execution_count": null,
   "outputs": [],
   "source": [
    "best_logreg_model = grid_search.best_estimator_\n",
    "best_params = grid_search.best_params_"
   ],
   "metadata": {
    "collapsed": false,
    "is_executing": true
   },
   "id": "9aef34085a237213"
  },
  {
   "cell_type": "code",
   "execution_count": null,
   "outputs": [],
   "source": [
    "print(f'Best Hyperparameters are: {best_params}')"
   ],
   "metadata": {
    "collapsed": false,
    "is_executing": true
   },
   "id": "c619ab2673ccbe2d"
  },
  {
   "cell_type": "markdown",
   "source": [
    "#### Now Evaluating the model with best hyperparameters"
   ],
   "metadata": {
    "collapsed": false
   },
   "id": "9350dd9eab6e312b"
  },
  {
   "cell_type": "code",
   "execution_count": null,
   "outputs": [],
   "source": [
    "y_pred_cv = best_logreg_model.predict(X_test)"
   ],
   "metadata": {
    "collapsed": false,
    "is_executing": true
   },
   "id": "27ce176fe98564dc"
  },
  {
   "cell_type": "code",
   "execution_count": null,
   "outputs": [],
   "source": [
    "accuracy_cv = accuracy_score(y_test, y_pred_cv)\n",
    "precision_cv = precision_score(y_test, y_pred_cv)\n",
    "recall_cv = recall_score(y_test, y_pred_cv)\n",
    "f1_cv = f1_score(y_test, y_pred_cv)"
   ],
   "metadata": {
    "collapsed": false,
    "is_executing": true
   },
   "id": "28c66c6ef4576a99"
  },
  {
   "cell_type": "code",
   "execution_count": null,
   "outputs": [],
   "source": [
    "print(f'Cross-Validated Accuracy result : {accuracy_cv:.4f}')\n",
    "print(f'Cross-Validated Precision result: {precision_cv:.4f}')\n",
    "print(f'Cross-Validated Recall result: {recall_cv:.4f}')\n",
    "print(f'Cross-Validated F1-Score: {f1_cv:.4f}')"
   ],
   "metadata": {
    "collapsed": false,
    "is_executing": true
   },
   "id": "ef855f23b7cd591c"
  },
  {
   "cell_type": "markdown",
   "source": [
    "# 5 Comparison and Interpretation"
   ],
   "metadata": {
    "collapsed": false
   },
   "id": "83ea3d6c28468e96"
  },
  {
   "cell_type": "markdown",
   "source": [
    "#### 5a) Discuss the pros and cons of each model in the given context."
   ],
   "metadata": {
    "collapsed": false
   },
   "id": "560f51239e825f8d"
  },
  {
   "cell_type": "markdown",
   "source": [
    "##### For the Linear Regression Model, the pros are it is straightforward and easy to understand. It helps us see how different things, like age or BMI, might change someone's blood sugar level. it is simple to use, just like basic math. If one thing goes up, what happens to the blood sugar? etc."
   ],
   "metadata": {
    "collapsed": false
   },
   "id": "c2f12136b55c3337"
  },
  {
   "cell_type": "markdown",
   "source": [
    "##### The cons for the Linear Regression Model are it is picky. It works best if everything goes up or down in a straight line. If not, it might get confused. Secondly, when outliers are involved, it might not give best answers. weird numbers can mess it up"
   ],
   "metadata": {
    "collapsed": false
   },
   "id": "9cee7c34a8eb155"
  },
  {
   "cell_type": "markdown",
   "source": [
    "##### For Logistic Regression Models, Instead of saying \"yes\" or \"no\" directly, it tells us the chance of having diabetes. Like, \"There's a 70% chance this person has diabetes.\" more like it gives probabilities which is better. Secondly, It handles strange values better. If there are some really high or low numbers, it doesn't mess up the performance"
   ],
   "metadata": {
    "collapsed": false
   },
   "id": "ca985963cf611887"
  },
  {
   "cell_type": "markdown",
   "source": [
    "##### As per the Cons for the Logistic Regression Models, logistic regression assumes a linear relationship between the features and the log-odds of the target variable. Secondly, Logistic regression might struggle with complex relationships in the data, especially if there are non-linear patterns. If things are too complicated, it might struggle"
   ],
   "metadata": {
    "collapsed": false
   },
   "id": "7f2d08f45815784"
  },
  {
   "cell_type": "markdown",
   "source": [
    "## In summary"
   ],
   "metadata": {
    "collapsed": false
   },
   "id": "1cdacc92cd76e52a"
  },
  {
   "cell_type": "markdown",
   "source": [
    "##### The model obtained an accuracy of 78%. In overall performance, I think it is good. As per precision, if it says someone has diabetes, it's right about 70% of the time, that is not bad. A recall of 57% implies that the model captures 57% of the actual people with diabetic cases. Lastly, an F1-Score of 0.63 suggests a middle-ground performance – not bad, not excellent, just a fair balance between being accurate and catching the right cases."
   ],
   "metadata": {
    "collapsed": false
   },
   "id": "63e5df27e1f284bf"
  },
  {
   "cell_type": "markdown",
   "source": [
    "##### In summary, both models are good tools. One is like a basic calculator, and the other is like advanced. They both help us understand diabetes in different ways. Based on requirements, tasks and objective, both models provide valuable insights."
   ],
   "metadata": {
    "collapsed": false
   },
   "id": "44df78e8b4a440a8"
  },
  {
   "cell_type": "markdown",
   "source": [
    "## 5b) Provide insights into the meaningful predictors for diabetes."
   ],
   "metadata": {
    "collapsed": false
   },
   "id": "9b0ebfd01f803d28"
  },
  {
   "cell_type": "markdown",
   "source": [
    "##### For Glucose levels, People with higher glucose levels are more likely to have diabetes. It seems like a significant predictor. For Body Mass Index (BMI), Body Mass Index (BMI) is also a factor. Higher BMI may contribute to the likelihood of diabetes. As per age, age seems to be connected with diabetes. Older individuals might have a higher chance of having diabetes. Furthermore, for females, the number of pregnancies might influence diabetes risk. More pregnancies could mean a higher likelihood. Insulin and blood sugar are also predicators for diabetes; higher levels or unusual blood pressure might indicate a higher risk. Again as per genetics, the family history of diabetes, represented by the Diabetes Pedigree Function, could contribute. Genetics might play a role. Lastly, skin thickness and other factors also contributing factors to diabetes, although their impacts might be little."
   ],
   "metadata": {
    "collapsed": false
   },
   "id": "b821d7771d80a45d"
  },
  {
   "cell_type": "markdown",
   "source": [
    "# 6. Conclusion and Documentation"
   ],
   "metadata": {
    "collapsed": false
   },
   "id": "3f2679dd9a86bfa1"
  },
  {
   "cell_type": "markdown",
   "source": [
    "## 6a) Summarize the results obtained from both models."
   ],
   "metadata": {
    "collapsed": false
   },
   "id": "caca8a199d989689"
  },
  {
   "cell_type": "markdown",
   "source": [
    "##### The model obtained an accuracy of 78%. In overall performance, I think it is good. As per precision, if it says someone has diabetes, it's right about 70% of the time, that is not bad. A recall of 57% implies that the model captures 57% of the actual people with diabetic cases. Lastly, an F1-Score of 0.63 suggests a middle-ground performance – not bad, not excellent, just a fair balance between being accurate and catching the right cases."
   ],
   "metadata": {
    "collapsed": false
   },
   "id": "e5c5a4dbfd5f8199"
  },
  {
   "cell_type": "markdown",
   "source": [
    "### 6b) Discuss limitations and potential areas for improvement."
   ],
   "metadata": {
    "collapsed": false
   },
   "id": "d14e48ed53379f63"
  },
  {
   "cell_type": "markdown",
   "source": [
    "##### 1) The dataset might have an imbalance between diabetic and non-diabetic cases, affecting model performance. 2) Feature engineering and careful selection could enhance model performance. Identifying more relevant features might improve predictions. 3) Further tuning of hyperparameters, especially in the logistic regression model, might optimize performance. 4) A larger dataset could provide a more robust understanding of predictors and enhance model training. 5) Inclusion of domain expertise and additional medical features might enhance the model's predictive capabilities. In summary, the models look promising, but we need to keep refining them and being mindful of the dataset's limitations to make predictions more accurate. It's key to understand that models are tools, and they get better when we keep adjusting and getting insights from both data and domain experts"
   ],
   "metadata": {
    "collapsed": false
   },
   "id": "6d36ff5c47b07db8"
  },
  {
   "cell_type": "markdown",
   "source": [],
   "metadata": {
    "collapsed": false
   },
   "id": "e49a5821edfc56e1"
  },
  {
   "cell_type": "code",
   "execution_count": null,
   "outputs": [],
   "source": [],
   "metadata": {
    "collapsed": false,
    "is_executing": true
   },
   "id": "92cbfc035ae8ffd4"
  },
  {
   "cell_type": "code",
   "execution_count": null,
   "outputs": [],
   "source": [],
   "metadata": {
    "collapsed": false
   },
   "id": "a421ff9fb868cc70"
  }
 ],
 "metadata": {
  "kernelspec": {
   "display_name": "Python 3",
   "language": "python",
   "name": "python3"
  },
  "language_info": {
   "codemirror_mode": {
    "name": "ipython",
    "version": 2
   },
   "file_extension": ".py",
   "mimetype": "text/x-python",
   "name": "python",
   "nbconvert_exporter": "python",
   "pygments_lexer": "ipython2",
   "version": "2.7.6"
  }
 },
 "nbformat": 4,
 "nbformat_minor": 5
}
